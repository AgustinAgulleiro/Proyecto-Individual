{
 "cells": [
  {
   "attachments": {},
   "cell_type": "markdown",
   "metadata": {},
   "source": [
    "<b>PROYECTO INTEGRADOR HENRY <b>\n",
    "\n",
    "Agustin Agulleiro"
   ]
  },
  {
   "cell_type": "code",
   "execution_count": 108,
   "metadata": {},
   "outputs": [],
   "source": [
    "import pandas as pd\n",
    "import numpy as np\n",
    "from collections import Counter"
   ]
  },
  {
   "cell_type": "code",
   "execution_count": 109,
   "metadata": {},
   "outputs": [
    {
     "data": {
      "text/html": [
       "<div>\n",
       "<style scoped>\n",
       "    .dataframe tbody tr th:only-of-type {\n",
       "        vertical-align: middle;\n",
       "    }\n",
       "\n",
       "    .dataframe tbody tr th {\n",
       "        vertical-align: top;\n",
       "    }\n",
       "\n",
       "    .dataframe thead th {\n",
       "        text-align: right;\n",
       "    }\n",
       "</style>\n",
       "<table border=\"1\" class=\"dataframe\">\n",
       "  <thead>\n",
       "    <tr style=\"text-align: right;\">\n",
       "      <th></th>\n",
       "      <th>show_id</th>\n",
       "      <th>type</th>\n",
       "      <th>title</th>\n",
       "      <th>director</th>\n",
       "      <th>cast</th>\n",
       "      <th>country</th>\n",
       "      <th>date_added</th>\n",
       "      <th>release_year</th>\n",
       "      <th>rating</th>\n",
       "      <th>duration</th>\n",
       "      <th>listed_in</th>\n",
       "      <th>description</th>\n",
       "    </tr>\n",
       "  </thead>\n",
       "  <tbody>\n",
       "    <tr>\n",
       "      <th>0</th>\n",
       "      <td>s1</td>\n",
       "      <td>Movie</td>\n",
       "      <td>The Grand Seduction</td>\n",
       "      <td>Don McKellar</td>\n",
       "      <td>Brendan Gleeson, Taylor Kitsch, Gordon Pinsent</td>\n",
       "      <td>Canada</td>\n",
       "      <td>March 30, 2021</td>\n",
       "      <td>2014</td>\n",
       "      <td>NaN</td>\n",
       "      <td>113 min</td>\n",
       "      <td>Comedy, Drama</td>\n",
       "      <td>A small fishing village must procure a local d...</td>\n",
       "    </tr>\n",
       "    <tr>\n",
       "      <th>1</th>\n",
       "      <td>s2</td>\n",
       "      <td>Movie</td>\n",
       "      <td>Take Care Good Night</td>\n",
       "      <td>Girish Joshi</td>\n",
       "      <td>Mahesh Manjrekar, Abhay Mahajan, Sachin Khedekar</td>\n",
       "      <td>India</td>\n",
       "      <td>March 30, 2021</td>\n",
       "      <td>2018</td>\n",
       "      <td>13+</td>\n",
       "      <td>110 min</td>\n",
       "      <td>Drama, International</td>\n",
       "      <td>A Metro Family decides to fight a Cyber Crimin...</td>\n",
       "    </tr>\n",
       "    <tr>\n",
       "      <th>2</th>\n",
       "      <td>s3</td>\n",
       "      <td>Movie</td>\n",
       "      <td>Secrets of Deception</td>\n",
       "      <td>Josh Webber</td>\n",
       "      <td>Tom Sizemore, Lorenzo Lamas, Robert LaSardo, R...</td>\n",
       "      <td>United States</td>\n",
       "      <td>March 30, 2021</td>\n",
       "      <td>2017</td>\n",
       "      <td>NaN</td>\n",
       "      <td>74 min</td>\n",
       "      <td>Action, Drama, Suspense</td>\n",
       "      <td>After a man discovers his wife is cheating on ...</td>\n",
       "    </tr>\n",
       "    <tr>\n",
       "      <th>3</th>\n",
       "      <td>s4</td>\n",
       "      <td>Movie</td>\n",
       "      <td>Pink: Staying True</td>\n",
       "      <td>Sonia Anderson</td>\n",
       "      <td>Interviews with: Pink, Adele, Beyoncé, Britney...</td>\n",
       "      <td>United States</td>\n",
       "      <td>March 30, 2021</td>\n",
       "      <td>2014</td>\n",
       "      <td>NaN</td>\n",
       "      <td>69 min</td>\n",
       "      <td>Documentary</td>\n",
       "      <td>Pink breaks the mold once again, bringing her ...</td>\n",
       "    </tr>\n",
       "    <tr>\n",
       "      <th>4</th>\n",
       "      <td>s5</td>\n",
       "      <td>Movie</td>\n",
       "      <td>Monster Maker</td>\n",
       "      <td>Giles Foster</td>\n",
       "      <td>Harry Dean Stanton, Kieran O'Brien, George Cos...</td>\n",
       "      <td>United Kingdom</td>\n",
       "      <td>March 30, 2021</td>\n",
       "      <td>1989</td>\n",
       "      <td>NaN</td>\n",
       "      <td>45 min</td>\n",
       "      <td>Drama, Fantasy</td>\n",
       "      <td>Teenage Matt Banting wants to work with a famo...</td>\n",
       "    </tr>\n",
       "  </tbody>\n",
       "</table>\n",
       "</div>"
      ],
      "text/plain": [
       "  show_id   type                 title        director  \\\n",
       "0      s1  Movie   The Grand Seduction    Don McKellar   \n",
       "1      s2  Movie  Take Care Good Night    Girish Joshi   \n",
       "2      s3  Movie  Secrets of Deception     Josh Webber   \n",
       "3      s4  Movie    Pink: Staying True  Sonia Anderson   \n",
       "4      s5  Movie         Monster Maker    Giles Foster   \n",
       "\n",
       "                                                cast         country  \\\n",
       "0     Brendan Gleeson, Taylor Kitsch, Gordon Pinsent          Canada   \n",
       "1   Mahesh Manjrekar, Abhay Mahajan, Sachin Khedekar           India   \n",
       "2  Tom Sizemore, Lorenzo Lamas, Robert LaSardo, R...   United States   \n",
       "3  Interviews with: Pink, Adele, Beyoncé, Britney...   United States   \n",
       "4  Harry Dean Stanton, Kieran O'Brien, George Cos...  United Kingdom   \n",
       "\n",
       "       date_added  release_year rating duration                listed_in  \\\n",
       "0  March 30, 2021          2014    NaN  113 min            Comedy, Drama   \n",
       "1  March 30, 2021          2018    13+  110 min     Drama, International   \n",
       "2  March 30, 2021          2017    NaN   74 min  Action, Drama, Suspense   \n",
       "3  March 30, 2021          2014    NaN   69 min              Documentary   \n",
       "4  March 30, 2021          1989    NaN   45 min           Drama, Fantasy   \n",
       "\n",
       "                                         description  \n",
       "0  A small fishing village must procure a local d...  \n",
       "1  A Metro Family decides to fight a Cyber Crimin...  \n",
       "2  After a man discovers his wife is cheating on ...  \n",
       "3  Pink breaks the mold once again, bringing her ...  \n",
       "4  Teenage Matt Banting wants to work with a famo...  "
      ]
     },
     "execution_count": 109,
     "metadata": {},
     "output_type": "execute_result"
    }
   ],
   "source": [
    "#IMPORTO EL CSV\n",
    "amazon = pd.read_csv(\"plataformas/amazon_prime_titles.csv\")\n",
    "amazon.head()"
   ]
  },
  {
   "cell_type": "code",
   "execution_count": 110,
   "metadata": {},
   "outputs": [],
   "source": [
    "#CREO UNA COLUMNA \"ID\" con la primera inicial de la plataforma y lo concateno con su \"show_id\"\n",
    "amazon[\"id\"] = \"a\" + amazon[\"show_id\"]"
   ]
  },
  {
   "cell_type": "code",
   "execution_count": 111,
   "metadata": {},
   "outputs": [],
   "source": [
    "#DROPEAMOS LA COLUMNA \"SHOW_ID\"\n",
    "amazon = amazon.drop(columns=\"show_id\")"
   ]
  },
  {
   "cell_type": "code",
   "execution_count": 112,
   "metadata": {},
   "outputs": [
    {
     "data": {
      "text/plain": [
       "Index(['type', 'title', 'director', 'cast', 'country', 'date_added',\n",
       "       'release_year', 'rating', 'duration', 'listed_in', 'description', 'id'],\n",
       "      dtype='object')"
      ]
     },
     "execution_count": 112,
     "metadata": {},
     "output_type": "execute_result"
    }
   ],
   "source": [
    "#ME FIJO LAS COLUMNAS QUE TIENE, PARA LUEGO REINDEXARLAS\n",
    "amazon.columns"
   ]
  },
  {
   "cell_type": "code",
   "execution_count": 113,
   "metadata": {},
   "outputs": [],
   "source": [
    "#CAMBIO LAS COLUMNAS DE LUGAR , PRA QUE \"ID\" ESTE PRIMERO\n",
    "amazon = amazon.reindex(columns=[\"id\",'type', 'title', 'director', 'cast', 'country', 'date_added',\n",
    "       'release_year', 'rating', 'duration', 'listed_in', 'description'])"
   ]
  },
  {
   "cell_type": "code",
   "execution_count": 114,
   "metadata": {},
   "outputs": [
    {
     "data": {
      "text/plain": [
       "id                 0\n",
       "type               0\n",
       "title              0\n",
       "director        2082\n",
       "cast            1233\n",
       "country         8996\n",
       "date_added      9513\n",
       "release_year       0\n",
       "rating           337\n",
       "duration           0\n",
       "listed_in          0\n",
       "description        0\n",
       "dtype: int64"
      ]
     },
     "execution_count": 114,
     "metadata": {},
     "output_type": "execute_result"
    }
   ],
   "source": [
    "#MIRAMOS LA CANTIDAD DE NULOS POR COLUMNA\n",
    "amazon.isnull().sum()"
   ]
  },
  {
   "cell_type": "code",
   "execution_count": 115,
   "metadata": {},
   "outputs": [],
   "source": [
    "#REMPLAZAMOS LOS NULOS DE RATING POR LA LETRA \"G\"\n",
    "amazon[\"rating\"] = amazon[\"rating\"].fillna(\"G\")"
   ]
  },
  {
   "cell_type": "code",
   "execution_count": 116,
   "metadata": {},
   "outputs": [],
   "source": [
    "# CONVERTIR LA COLUMNA DE STRING A FORMATO DE FECHA\n",
    "amazon['date_added'] = pd.to_datetime(amazon[\"date_added\"])\n",
    "# CONVERTIR EL FORMATO DE FECHA A \"AAAA-MM-DD\n",
    "amazon['date_added'] = amazon['date_added'].dt.strftime('%Y-%m-%d')"
   ]
  },
  {
   "cell_type": "code",
   "execution_count": 117,
   "metadata": {},
   "outputs": [],
   "source": [
    "# CONVERTIMOS TODAS LAS LETRAS DEL DATAFRAME A MINÚSCULAS\n",
    "amazon = amazon.applymap(lambda s: s.lower() if type(s) == str else s)"
   ]
  },
  {
   "cell_type": "code",
   "execution_count": 118,
   "metadata": {},
   "outputs": [],
   "source": [
    "# DIVIDIR LA COLUMNA \"DURATION\" EN UN NÚMERO Y UN STRING Y CREAR LAS COLUMNAS CON SUS RESPECTIVAS VARIABLES RESULTADO\n",
    "amazon[['duration_int', 'duration_type']] = amazon['duration'].str.split(' ', expand=True)\n",
    "amazon.drop(columns=[\"duration\"],inplace= True)"
   ]
  },
  {
   "cell_type": "code",
   "execution_count": 119,
   "metadata": {},
   "outputs": [],
   "source": [
    "#RELLENAMOS LOS NULOS COMO 0\n",
    "amazon[\"duration_int\"].fillna(0,inplace = True)\n",
    "#CAMBIAMOS EL TIPO DE DATO A ENTERO EN LA TABLA DURATION_INT\n",
    "amazon['duration_int'] = amazon['duration_int'].astype(int)"
   ]
  },
  {
   "cell_type": "code",
   "execution_count": 120,
   "metadata": {},
   "outputs": [],
   "source": [
    "#Cambiamos el formato a DATETIME\n",
    "amazon[\"date_added\"] = pd.to_datetime(amazon[\"date_added\"])"
   ]
  },
  {
   "attachments": {},
   "cell_type": "markdown",
   "metadata": {},
   "source": [
    "<b>APARTIR DE ACA REALIZAMOS EXACTAMENTE LOS MISMOS PASOS EN LAS DEMAS PLATAFORMAS <b>"
   ]
  },
  {
   "cell_type": "code",
   "execution_count": 121,
   "metadata": {},
   "outputs": [],
   "source": [
    "# APLICAMOS LO REALIZADO ANTERIORMENTE CON LOS DEMAS CSV\n",
    "disney = pd.read_csv(\"plataformas/disney_plus_titles.csv\")\n",
    "hulu = pd.read_csv(\"plataformas/hulu_titles.csv\")\n",
    "netflix = pd.read_csv(\"plataformas/netflix_titles.csv\")\n",
    "def transformacion (plataforma,letra):\n",
    "    plataforma[\"id\"] = letra + plataforma[\"show_id\"]\n",
    "    plataforma = plataforma.drop(columns=\"show_id\")\n",
    "    plataforma = plataforma.reindex(columns=[\"id\",'type', 'title', 'director', 'cast', 'country', 'date_added',\n",
    "                                    'release_year', 'rating', 'duration', 'listed_in', 'description'])\n",
    "    plataforma[\"rating\"] = plataforma[\"rating\"].fillna(\"G\")\n",
    "    plataforma['date_added'] = pd.to_datetime(plataforma['date_added'])\n",
    "    plataforma['date_added'] = plataforma['date_added'].dt.strftime('%Y-%m-%d')\n",
    "    plataforma = plataforma.applymap(lambda s: s.lower() if type(s) == str else s)\n",
    "    plataforma[['duration_int', 'duration_type']] = plataforma['duration'].str.split(' ', expand=True)\n",
    "    plataforma.drop(columns=[\"duration\"],inplace= True)\n",
    "    plataforma[\"duration_int\"].fillna(0,inplace = True)\n",
    "    plataforma['duration_int'] = plataforma['duration_int'].astype(int)\n",
    "    return plataforma"
   ]
  },
  {
   "cell_type": "code",
   "execution_count": 122,
   "metadata": {},
   "outputs": [],
   "source": [
    "#APLICAMOS EL MISMO PROCESO PARA LOS DEMAS CSV\n",
    "disney = transformacion(disney, \"d\")\n",
    "hulu = transformacion(hulu, \"h\")\n",
    "netflix = transformacion(netflix, \"n\")"
   ]
  },
  {
   "cell_type": "code",
   "execution_count": 123,
   "metadata": {},
   "outputs": [],
   "source": [
    "# CONCATENAMOS TODOS LOS DATAFRAME EN UNO SOLO \n",
    "plataformas = pd.concat([amazon,disney,hulu,netflix])"
   ]
  },
  {
   "cell_type": "code",
   "execution_count": 124,
   "metadata": {},
   "outputs": [],
   "source": [
    "# CONVIERTO LA COLUMNA \"date_added\" a DATETIME\n",
    "plataformas[\"date_added\"] = pd.to_datetime(plataformas[\"date_added\"])"
   ]
  },
  {
   "attachments": {},
   "cell_type": "markdown",
   "metadata": {},
   "source": [
    "<b>TRANSFORMAMOS LOS CSV DE RATING<B>"
   ]
  },
  {
   "cell_type": "code",
   "execution_count": 125,
   "metadata": {},
   "outputs": [],
   "source": [
    "#IMPORTAMOS TODOS LOS CSV EN UNA VARIABLE DIFERENTE\n",
    "rating1 = pd.read_csv(\"ratings/1.csv\")\n",
    "rating2 = pd.read_csv(\"ratings/2.csv\")\n",
    "rating3 = pd.read_csv(\"ratings/3.csv\")\n",
    "rating4 = pd.read_csv(\"ratings/4.csv\")\n",
    "rating5 = pd.read_csv(\"ratings/5.csv\")\n",
    "rating6 = pd.read_csv(\"ratings/6.csv\")\n",
    "rating7 = pd.read_csv(\"ratings/7.csv\")\n",
    "rating8 = pd.read_csv(\"ratings/8.csv\")"
   ]
  },
  {
   "cell_type": "code",
   "execution_count": 126,
   "metadata": {},
   "outputs": [],
   "source": [
    "#UNIMOS TODOS LAS VARIABLES EN UNA SOLA CON UN CONCAT(CONCATENAR)\n",
    "df_rating = pd.concat([rating1,rating2,rating3,rating4,rating5,rating6,rating7,rating8])"
   ]
  },
  {
   "cell_type": "code",
   "execution_count": 127,
   "metadata": {},
   "outputs": [],
   "source": [
    "#AGRUPAMOS TODAS LAS VARIABLES REPETIDAS EN \"MOVIEID\".\n",
    "#PARA QUE NO HAYA REPETICION DE INFORMACION, SACAMOS UN PROMEDIO Y LO RENDONDEAMOS\n",
    "df_agrupado = round(df_rating.groupby('movieId', as_index=False)['rating'].mean())"
   ]
  },
  {
   "cell_type": "code",
   "execution_count": 128,
   "metadata": {},
   "outputs": [],
   "source": [
    "#TRANSFORMAMOS LA COLUMNA RATING A TIPO ENTERO (ESTABA EN FLOAT)\n",
    "df_agrupado[\"rating\"] = df_agrupado[\"rating\"].astype(int)"
   ]
  },
  {
   "cell_type": "code",
   "execution_count": 129,
   "metadata": {},
   "outputs": [],
   "source": [
    "plataformas = pd.merge(plataformas , df_agrupado, left_on='id',right_on='movieId')"
   ]
  },
  {
   "cell_type": "code",
   "execution_count": 130,
   "metadata": {},
   "outputs": [],
   "source": [
    "plataformas = plataformas.drop(columns=\"movieId\")"
   ]
  },
  {
   "cell_type": "code",
   "execution_count": 131,
   "metadata": {},
   "outputs": [],
   "source": [
    "# GUARDAMOS EL DATAFRAME EN UN CSV\n",
    "plataformas.to_csv(\"plataformas.csv\",index=False)"
   ]
  },
  {
   "attachments": {},
   "cell_type": "markdown",
   "metadata": {},
   "source": [
    "<b>CREO LAS FUNCIONES PARA IMPLEMENTARLAS EN LA API <b>"
   ]
  },
  {
   "cell_type": "code",
   "execution_count": 132,
   "metadata": {},
   "outputs": [],
   "source": [
    "def get_max_duration(year: int, platform: str, duration_type: str):\n",
    "    if not isinstance(year, int):\n",
    "        raise ValueError(\"El valor de 'year' debe ser un número entero\")\n",
    "    if not isinstance(platform, str):\n",
    "        raise ValueError(\"El valor de 'platform' debe ser una cadena de caracteres\")\n",
    "    if not isinstance(duration_type, str):\n",
    "        raise ValueError(\"El valor de 'duration_type' debe ser una cadena de caracteres\")\n",
    "    df = pd.read_csv(\"plataformas.csv\")\n",
    "    if platform[0] in [\"h\", \"n\", \"a\", \"d\", \"H\", \"N\", \"A\", \"D\"]:\n",
    "        platform = platform.lower()[0]\n",
    "        duration_type = duration_type.lower()\n",
    "        if duration_type == \"min\":\n",
    "            resultado = df[(df['release_year']==year) & (df['id'].str.startswith(platform)) & (df['duration_type']== duration_type) & (df[\"type\"] == \"movie\")]\n",
    "            idx = resultado['duration_int'].idxmax()\n",
    "            return {resultado.loc[idx, 'title']}\n",
    "        else:\n",
    "            return {\"Para saber cual fue la pelicula maxima trata de poner en duration_type min\"}\n",
    "    else: \n",
    "        return {\"Intente usar una plataforma existente\"}"
   ]
  },
  {
   "cell_type": "code",
   "execution_count": 133,
   "metadata": {},
   "outputs": [],
   "source": [
    "def get_max_duration(year: int, platform: str, duration_type: str):\n",
    "    if not isinstance(year, int):\n",
    "        raise ValueError(\"El valor de 'year' debe ser un número entero\")\n",
    "    if not isinstance(platform, str):\n",
    "        raise ValueError(\"El valor de 'platform' debe ser una cadena de caracteres\")\n",
    "    if not isinstance(duration_type, str):\n",
    "        raise ValueError(\"El valor de 'duration_type' debe ser una cadena de caracteres\")\n",
    "    df = pd.read_csv(\"plataformas.csv\")\n",
    "    if platform[0] in [\"h\", \"n\", \"a\", \"d\", \"H\", \"N\", \"A\", \"D\"]:\n",
    "        platform = platform.lower()[0]\n",
    "        duration_type = duration_type.lower()\n",
    "        if duration_type == \"min\":\n",
    "            resultado = df[(df['release_year']==year) & (df['id'].str.startswith(platform)) & (df['duration_type']== duration_type) & (df[\"type\"] == \"movie\")]\n",
    "            idx = resultado['duration_int'].idxmax()\n",
    "            respuesta = resultado.loc[idx, 'title']\n",
    "            return {'pelicula': respuesta}\n",
    "\n",
    "        else:\n",
    "            return {\"Para saber cual fue la pelicula maxima trata de poner en duration_type min\"}\n",
    "    else: \n",
    "        return {\"Intente usar una plataforma existente\"}"
   ]
  },
  {
   "cell_type": "code",
   "execution_count": 134,
   "metadata": {},
   "outputs": [
    {
     "data": {
      "text/plain": [
       "{'pelicula': 'unbreakable kimmy schmidt: kimmy vs. the reverend'}"
      ]
     },
     "execution_count": 134,
     "metadata": {},
     "output_type": "execute_result"
    }
   ],
   "source": [
    "get_max_duration(2020,\"netflix\",\"min\")"
   ]
  },
  {
   "cell_type": "code",
   "execution_count": 135,
   "metadata": {},
   "outputs": [],
   "source": [
    "def get_score_count(plataforma: str, scored: int, anio: int):\n",
    "    df = pd.read_csv(\"plataformas.csv\")\n",
    "    if plataforma[0] in [\"h\", \"n\", \"a\", \"d\", \"H\", \"N\", \"A\", \"D\"]:\n",
    "        plataforma = plataforma.lower()[0]\n",
    "        respuesta = df[(df['id'].str.startswith(plataforma)) & (df[\"rating_y\"]> scored) & (df[\"release_year\"]== anio) & (df[\"type\"]== \"movie\")]\n",
    "        cantidad = respuesta.shape[0]\n",
    "        return {cantidad}\n",
    "    else: \n",
    "        return {\"Intente usar una plataforma existente\"}"
   ]
  },
  {
   "cell_type": "code",
   "execution_count": 136,
   "metadata": {},
   "outputs": [
    {
     "data": {
      "text/plain": [
       "{25}"
      ]
     },
     "execution_count": 136,
     "metadata": {},
     "output_type": "execute_result"
    }
   ],
   "source": [
    "get_score_count(\"disney\",3,2018)"
   ]
  },
  {
   "cell_type": "code",
   "execution_count": 137,
   "metadata": {},
   "outputs": [],
   "source": [
    "def get_count_platform(platform: str):\n",
    "    df = pd.read_csv(\"plataformas.csv\")\n",
    "    if platform in [\"amazon\", \"netflix\", \"hulu\", \"disney\"]:\n",
    "        platform = platform.lower()[0]\n",
    "        respuesta = df[(df[\"id\"].str.startswith(platform)) & (df[\"type\"]== \"movie\")]\n",
    "        cantidad = respuesta.shape[0]\n",
    "        return {cantidad}\n",
    "    else: \n",
    "        return {\"Intente usar una plataforma existente\"}"
   ]
  },
  {
   "cell_type": "code",
   "execution_count": 138,
   "metadata": {},
   "outputs": [
    {
     "data": {
      "text/plain": [
       "{1484}"
      ]
     },
     "execution_count": 138,
     "metadata": {},
     "output_type": "execute_result"
    }
   ],
   "source": [
    "get_count_platform(\"hulu\")"
   ]
  },
  {
   "cell_type": "code",
   "execution_count": 139,
   "metadata": {},
   "outputs": [],
   "source": [
    "def get_actor(platform: str, year: int):\n",
    "    if not isinstance(platform, str):\n",
    "        raise ValueError(\"El valor de 'platform' debe ser de caracteres\")\n",
    "    if not isinstance(year, int):\n",
    "        raise ValueError(\"El valor de 'year' debe ser un entero\")\n",
    "    df = pd.read_csv(\"plataformas.csv\")\n",
    "    if platform[0] in [\"h\", \"n\", \"a\", \"d\", \"H\", \"N\", \"A\", \"D\"]:\n",
    "        platform1 = platform\n",
    "        platform = platform.lower()[0]\n",
    "        df = df[(df['id'].str.startswith(platform)) & (df['release_year'] == year)]\n",
    "        actores_por_fila = df['cast'].dropna().apply(lambda x: [i.strip() for i in x.split(',') if i.strip() and not i.strip().isdigit()])\n",
    "        contador_actores = Counter()\n",
    "        for actores in actores_por_fila:\n",
    "            contador_actores.update(actores)\n",
    "        actor_mas_repetido = contador_actores.most_common(1)[0][0]\n",
    "        cantidad_actor_mas_repetido = contador_actores[actor_mas_repetido]\n",
    "        return f\"El actor que aparece más veces es {actor_mas_repetido}, con {cantidad_actor_mas_repetido} apariciones, en el año {year} de la plataforma {platform1}\"\n",
    "    else:\n",
    "        return f\"Los valores ingresados son incorrectos intente nuevamente, recuerde que las plataformas son Netflix, Amazon, Disney o Hulu.\""
   ]
  },
  {
   "cell_type": "code",
   "execution_count": 140,
   "metadata": {},
   "outputs": [
    {
     "data": {
      "text/plain": [
       "'El actor que aparece más veces es daveed diggs, con 3 apariciones, en el año 2020 de la plataforma disney'"
      ]
     },
     "execution_count": 140,
     "metadata": {},
     "output_type": "execute_result"
    }
   ],
   "source": [
    "get_actor(\"disney\",2020)"
   ]
  },
  {
   "cell_type": "code",
   "execution_count": 141,
   "metadata": {},
   "outputs": [],
   "source": [
    "def prod_per_county(tipo: str,pais: str,anio: int):\n",
    "    if not isinstance(tipo, str):\n",
    "        raise ValueError(\"El valor de 'tipo' debe ser de caracteres\")\n",
    "    if not isinstance(pais, str):\n",
    "        raise ValueError(\"El valor de 'platform' debe ser una cadena de caracteres\")\n",
    "    if not isinstance(anio, int):\n",
    "        raise ValueError(\"El valor de 'duration_type' debe ser un entero\")\n",
    "    df = pd.read_csv(\"plataformas.csv\")\n",
    "    tipo = tipo.lower()\n",
    "    pais = pais.lower()\n",
    "    if tipo == \"tv show\" or tipo == \"movie\":\n",
    "        if pais in df[\"country\"].unique():\n",
    "            respuesta = df[(df[\"type\"]== tipo) & (df[\"country\"]== pais) & (df[\"release_year\"]== anio)].shape[0]\n",
    "            return {'pais': pais,\n",
    "                    'anio': anio,\n",
    "                    'peliculas': respuesta}\n",
    "        else:\n",
    "            return {f\"Intenta poner un pais correcto\"}\n",
    "    else:\n",
    "        return {f\"Intenta poner tv show o movie en lugar de {tipo}\"}"
   ]
  },
  {
   "cell_type": "code",
   "execution_count": 142,
   "metadata": {},
   "outputs": [
    {
     "data": {
      "text/plain": [
       "{'pais': 'spain', 'anio': 2018, 'peliculas': 9}"
      ]
     },
     "execution_count": 142,
     "metadata": {},
     "output_type": "execute_result"
    }
   ],
   "source": [
    "prod_per_county(\"tv show\",\"spain\",2018)"
   ]
  },
  {
   "cell_type": "code",
   "execution_count": 143,
   "metadata": {},
   "outputs": [],
   "source": [
    "def get_contents(rating: str):\n",
    "    df = pd.read_csv(\"plataformas.csv\")\n",
    "    res = df[df[\"rating_x\"]== rating]\n",
    "    respuesta = res.shape[0]\n",
    "    return {respuesta}"
   ]
  },
  {
   "cell_type": "code",
   "execution_count": 144,
   "metadata": {},
   "outputs": [
    {
     "data": {
      "text/plain": [
       "{1269}"
      ]
     },
     "execution_count": 144,
     "metadata": {},
     "output_type": "execute_result"
    }
   ],
   "source": [
    "get_contents(\"g\")"
   ]
  }
 ],
 "metadata": {
  "kernelspec": {
   "display_name": "Python 3",
   "language": "python",
   "name": "python3"
  },
  "language_info": {
   "codemirror_mode": {
    "name": "ipython",
    "version": 3
   },
   "file_extension": ".py",
   "mimetype": "text/x-python",
   "name": "python",
   "nbconvert_exporter": "python",
   "pygments_lexer": "ipython3",
   "version": "3.11.0"
  },
  "orig_nbformat": 4
 },
 "nbformat": 4,
 "nbformat_minor": 2
}
