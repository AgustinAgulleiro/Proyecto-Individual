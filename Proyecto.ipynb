{
 "cells": [
  {
   "attachments": {},
   "cell_type": "markdown",
   "metadata": {},
   "source": [
    "<b>PROYECTO INTEGRADOR HENRY <b>\n",
    "\n",
    "Agustin Agulleiro"
   ]
  },
  {
   "cell_type": "code",
   "execution_count": null,
   "metadata": {},
   "outputs": [],
   "source": [
    "import pandas as pd\n",
    "import numpy as np\n",
    "from collections import Counter"
   ]
  },
  {
   "cell_type": "code",
   "execution_count": null,
   "metadata": {},
   "outputs": [],
   "source": [
    "#IMPORTO EL CSV\n",
    "amazon = pd.read_csv(\"plataformas/amazon_prime_titles.csv\")\n",
    "amazon.head()"
   ]
  },
  {
   "cell_type": "code",
   "execution_count": null,
   "metadata": {},
   "outputs": [],
   "source": [
    "#CREO UNA COLUMNA \"ID\" con la primera inicial de la plataforma y lo concateno con su \"show_id\"\n",
    "amazon[\"id\"] = \"a\" + amazon[\"show_id\"]"
   ]
  },
  {
   "cell_type": "code",
   "execution_count": null,
   "metadata": {},
   "outputs": [],
   "source": [
    "#DROPEAMOS LA COLUMNA \"SHOW_ID\"\n",
    "amazon = amazon.drop(columns=\"show_id\")"
   ]
  },
  {
   "cell_type": "code",
   "execution_count": null,
   "metadata": {},
   "outputs": [],
   "source": [
    "#me fijo las columnas que tiene, para luego reindexarlas \n",
    "amazon.columns"
   ]
  },
  {
   "cell_type": "code",
   "execution_count": null,
   "metadata": {},
   "outputs": [],
   "source": [
    "#cambio las columnas de lugar, para que \"id\" este primero\n",
    "amazon = amazon.reindex(columns=[\"id\",'type', 'title', 'director', 'cast', 'country', 'date_added',\n",
    "       'release_year', 'rating', 'duration', 'listed_in', 'description'])"
   ]
  },
  {
   "cell_type": "code",
   "execution_count": null,
   "metadata": {},
   "outputs": [],
   "source": [
    "#Miramos la cantidad de nulos por columna\n",
    "amazon.isnull().sum()"
   ]
  },
  {
   "cell_type": "code",
   "execution_count": null,
   "metadata": {},
   "outputs": [],
   "source": [
    "#REMPLAZAMOS LOS NULOS DE RATING POR LA LETRA \"G\"\n",
    "amazon[\"rating\"] = amazon[\"rating\"].fillna(\"G\")"
   ]
  },
  {
   "cell_type": "code",
   "execution_count": null,
   "metadata": {},
   "outputs": [],
   "source": [
    "# CONVERTIR LA COLUMNA DE STRING A FORMATO DE FECHA\n",
    "amazon['date_added'] = pd.to_datetime(amazon[\"date_added\"])\n",
    "# CONVERTIR EL FORMATO DE FECHA A \"AAAA-MM-DD\n",
    "amazon['date_added'] = amazon['date_added'].dt.strftime('%Y-%m-%d')"
   ]
  },
  {
   "cell_type": "code",
   "execution_count": null,
   "metadata": {},
   "outputs": [],
   "source": [
    "# CONVERTIMOS TODAS LAS LETRAS DEL DATAFRAME A MINÚSCULAS\n",
    "amazon = amazon.applymap(lambda s: s.lower() if type(s) == str else s)"
   ]
  },
  {
   "cell_type": "code",
   "execution_count": null,
   "metadata": {},
   "outputs": [],
   "source": [
    "# DIVIDIR LA COLUMNA \"DURATION\" EN UN NÚMERO Y UN STRING Y CREAR LAS COLUMNAS CON SUS RESPECTIVAS VARIABLES RESULTADO\n",
    "amazon[['duration_int', 'duration_type']] = amazon['duration'].str.split(' ', expand=True)\n",
    "amazon.drop(columns=[\"duration\"],inplace= True)"
   ]
  },
  {
   "cell_type": "code",
   "execution_count": null,
   "metadata": {},
   "outputs": [],
   "source": [
    "#RELLENAMOS LOS NULOS COMO 0\n",
    "amazon[\"duration_int\"].fillna(0,inplace = True)\n",
    "#CAMBIAMOS EL TIPO DE DATO A ENTERO EN LA TABLA DURATION_INT\n",
    "amazon['duration_int'] = amazon['duration_int'].astype(int)"
   ]
  },
  {
   "cell_type": "code",
   "execution_count": null,
   "metadata": {},
   "outputs": [],
   "source": [
    "#Cambiamos el formato a DATETIME\n",
    "amazon[\"date_added\"] = pd.to_datetime(amazon[\"date_added\"])"
   ]
  },
  {
   "attachments": {},
   "cell_type": "markdown",
   "metadata": {},
   "source": [
    "<b>APARTIR DE ACA REALIZAMOS EXACTAMENTE LOS MISMOS PASOS EN LAS DEMAS PLATAFORMAS <b>"
   ]
  },
  {
   "cell_type": "code",
   "execution_count": null,
   "metadata": {},
   "outputs": [],
   "source": [
    "# APLICAMOS LO REALIZADO ANTERIORMENTE CON LOS DEMAS CSV\n",
    "disney = pd.read_csv(\"plataformas/disney_plus_titles.csv\")\n",
    "hulu = pd.read_csv(\"plataformas/hulu_titles.csv\")\n",
    "netflix = pd.read_csv(\"plataformas/netflix_titles.csv\")\n",
    "def transformacion (plataforma,letra):\n",
    "    plataforma[\"id\"] = letra + plataforma[\"show_id\"]\n",
    "    plataforma = plataforma.drop(columns=\"show_id\")\n",
    "    plataforma = plataforma.reindex(columns=[\"id\",'type', 'title', 'director', 'cast', 'country', 'date_added',\n",
    "                                    'release_year', 'rating', 'duration', 'listed_in', 'description'])\n",
    "    plataforma[\"rating\"] = plataforma[\"rating\"].fillna(\"G\")\n",
    "    plataforma['date_added'] = pd.to_datetime(plataforma[\"date_added\"])\n",
    "    plataforma['date_added'] = plataforma['date_added'].dt.strftime('%Y-%m-%d')\n",
    "    plataforma = plataforma.applymap(lambda s: s.lower() if type(s) == str else s)\n",
    "    plataforma[['duration_int', 'duration_type']] = plataforma['duration'].str.split(' ', expand=True)\n",
    "    plataforma.drop(columns=[\"duration\"],inplace= True)\n",
    "    plataforma[\"duration_int\"].fillna(0,inplace = True)\n",
    "    plataforma['duration_int'] = plataforma['duration_int'].astype(int)\n",
    "    plataforma[\"date_added\"] = pd.to_datetime(plataforma[\"date_added\"])\n",
    "    return plataforma"
   ]
  },
  {
   "cell_type": "code",
   "execution_count": null,
   "metadata": {},
   "outputs": [],
   "source": [
    "#APLICAMOS EL MISMO PROCESO PARA LOS DEMAS CSV\n",
    "disney = transformacion(disney, \"d\")\n",
    "hulu = transformacion(hulu, \"h\")\n",
    "netflix = transformacion(netflix, \"n\")"
   ]
  },
  {
   "cell_type": "code",
   "execution_count": null,
   "metadata": {},
   "outputs": [],
   "source": [
    "# CONCATENAMOS TODOS LOS DATAFRAME EN UNO SOLO \n",
    "plataformas = pd.concat([amazon,disney,hulu,netflix])"
   ]
  },
  {
   "cell_type": "code",
   "execution_count": null,
   "metadata": {},
   "outputs": [],
   "source": [
    "# CONVIERTO LA COLUMNA \"date_added\" a DATETIME\n",
    "plataformas[\"date_added\"] = pd.to_datetime(plataformas[\"date_added\"])"
   ]
  },
  {
   "attachments": {},
   "cell_type": "markdown",
   "metadata": {},
   "source": [
    "<b>TRANSFORMAMOS LOS CSV DE RATING<B>"
   ]
  },
  {
   "cell_type": "code",
   "execution_count": null,
   "metadata": {},
   "outputs": [],
   "source": [
    "#IMPORTAMOS TODOS LOS CSV EN UNA VARIABLE DIFERENTE\n",
    "rating1 = pd.read_csv(\"ratings/1.csv\")\n",
    "rating2 = pd.read_csv(\"ratings/2.csv\")\n",
    "rating3 = pd.read_csv(\"ratings/3.csv\")\n",
    "rating4 = pd.read_csv(\"ratings/4.csv\")\n",
    "rating5 = pd.read_csv(\"ratings/5.csv\")\n",
    "rating6 = pd.read_csv(\"ratings/6.csv\")\n",
    "rating7 = pd.read_csv(\"ratings/7.csv\")\n",
    "rating8 = pd.read_csv(\"ratings/8.csv\")"
   ]
  },
  {
   "cell_type": "code",
   "execution_count": null,
   "metadata": {},
   "outputs": [],
   "source": [
    "#UNIMOS TODOS LAS VARIABLES EN UNA SOLA CON UN CONCAT(CONCATENAR)\n",
    "df_rating = pd.concat([rating1,rating2,rating3,rating4,rating5,rating6,rating7,rating8])"
   ]
  },
  {
   "cell_type": "code",
   "execution_count": null,
   "metadata": {},
   "outputs": [],
   "source": [
    "#AGRUPAMOS TODAS LAS VARIABLES REPETIDAS EN \"MOVIEID\".\n",
    "#PARA QUE NO HAYA REPETICION DE INFORMACION, SACAMOS UN PROMEDIO Y LO RENDONDEAMOS\n",
    "df_agrupado = round(df_rating.groupby('movieId', as_index=False)['rating'].mean())"
   ]
  },
  {
   "cell_type": "code",
   "execution_count": null,
   "metadata": {},
   "outputs": [],
   "source": [
    "#TRANSFORMAMOS LA COLUMNA RATING A TIPO ENTERO (ESTABA EN FLOAT)\n",
    "df_agrupado[\"rating\"] = df_agrupado[\"rating\"].astype(int)"
   ]
  },
  {
   "cell_type": "code",
   "execution_count": null,
   "metadata": {},
   "outputs": [],
   "source": [
    "plataformas = pd.merge(plataformas , df_agrupado, left_on='id',right_on='movieId')"
   ]
  },
  {
   "cell_type": "code",
   "execution_count": null,
   "metadata": {},
   "outputs": [],
   "source": [
    "plataformas = plataformas.drop(columns=\"movieId\")"
   ]
  },
  {
   "cell_type": "code",
   "execution_count": null,
   "metadata": {},
   "outputs": [],
   "source": [
    "# GUARDAMOS EL DATAFRAME EN UN CSV\n",
    "plataformas.to_csv(\"plataformas.csv\",index=False)"
   ]
  },
  {
   "attachments": {},
   "cell_type": "markdown",
   "metadata": {},
   "source": [
    "<b>CREO LAS FUNCIONES PARA IMPLEMENTARLAS EN LA API <b>"
   ]
  },
  {
   "cell_type": "code",
   "execution_count": 60,
   "metadata": {},
   "outputs": [],
   "source": [
    "def get_max_duration(year: int, platform: str, duration_type: str):\n",
    "    if not isinstance(year, int):\n",
    "        raise ValueError(\"El valor de 'year' debe ser un número entero\")\n",
    "    if not isinstance(platform, str):\n",
    "        raise ValueError(\"El valor de 'platform' debe ser una cadena de caracteres\")\n",
    "    if not isinstance(duration_type, str):\n",
    "        raise ValueError(\"El valor de 'duration_type' debe ser una cadena de caracteres\")\n",
    "    df = pd.read_csv(\"plataformas.csv\")\n",
    "    if platform[0] in [\"h\", \"n\", \"a\", \"d\", \"H\", \"N\", \"A\", \"D\"]:\n",
    "        platform = platform.lower()[0]\n",
    "        duration_type = duration_type.lower()\n",
    "        if duration_type == \"min\":\n",
    "            resultado = df[(df['release_year']==year) & (df['id'].str.startswith(platform)) & (df['duration_type']== duration_type) & (df[\"type\"] == \"movie\")]\n",
    "            idx = resultado['duration_int'].idxmax()\n",
    "            return {resultado.loc[idx, 'title']}\n",
    "        else:\n",
    "            return {\"Para saber cual fue la pelicula maxima trata de poner en duration_type min\"}\n",
    "    else: \n",
    "        return {\"Intente usar una plataforma existente\"}"
   ]
  },
  {
   "cell_type": "code",
   "execution_count": 59,
   "metadata": {},
   "outputs": [],
   "source": [
    "def get_score_count(platform: str, scored: int, year: int):\n",
    "    df = pd.read_csv(\"plataformas.csv\")\n",
    "    if platform[0] in [\"h\", \"n\", \"a\", \"d\", \"H\", \"N\", \"A\", \"D\"]:\n",
    "        platform = platform.lower()[0]\n",
    "        respuesta = df[(df['id'].str.startswith(platform)) & (df[\"rating_y\"]> scored) & (df[\"release_year\"]== year) & (df[\"type\"]== \"movie\")]\n",
    "        cantidad = respuesta.shape[0]\n",
    "        return {cantidad}\n",
    "    else: \n",
    "        return {\"Intente usar una plataforma existente\"}"
   ]
  },
  {
   "cell_type": "code",
   "execution_count": 58,
   "metadata": {},
   "outputs": [],
   "source": [
    "def get_count_platform(platform: str):\n",
    "    df = pd.read_csv(\"plataformas.csv\")\n",
    "    if platform in [\"amazon\", \"netflix\", \"hulu\", \"disney\"]:\n",
    "        platform = platform.lower()[0]\n",
    "        respuesta = df[(df[\"id\"].str.startswith(platform)) & (df[\"type\"]== \"movie\")]\n",
    "        cantidad = respuesta.shape[0]\n",
    "        return {cantidad}\n",
    "    else: \n",
    "        return {\"Intente usar una plataforma existente\"}"
   ]
  },
  {
   "cell_type": "code",
   "execution_count": 57,
   "metadata": {},
   "outputs": [],
   "source": [
    "def get_actor(platform: str, year: int):\n",
    "    if not isinstance(platform, str):\n",
    "        raise ValueError(\"El valor de 'platform' debe ser de caracteres\")\n",
    "    if not isinstance(year, int):\n",
    "        raise ValueError(\"El valor de 'year' debe ser un entero\")\n",
    "    df = pd.read_csv(\"plataformas.csv\")\n",
    "    if platform[0] in [\"h\", \"n\", \"a\", \"d\", \"H\", \"N\", \"A\", \"D\"]:\n",
    "        platform1 = platform\n",
    "        platform = platform.lower()[0]\n",
    "        df = df[(df['id'].str.startswith(platform)) & (df['release_year'] == year)]\n",
    "        actores_por_fila = df['cast'].dropna().apply(lambda x: [i.strip() for i in x.split(',') if i.strip() and not i.strip().isdigit()])\n",
    "        contador_actores = Counter()\n",
    "        for actores in actores_por_fila:\n",
    "            contador_actores.update(actores)\n",
    "        actor_mas_repetido = contador_actores.most_common(1)[0][0]\n",
    "        cantidad_actor_mas_repetido = contador_actores[actor_mas_repetido]\n",
    "        return f\"El actor que aparece más veces es {actor_mas_repetido}, con {cantidad_actor_mas_repetido} apariciones, en el año {year} de la plataforma {platform1}\"\n",
    "    else:\n",
    "        return f\"Los valores ingresados son incorrectos intente nuevamente, recuerde que las plataformas son Netflix, Amazon, Disney o Hulu.\""
   ]
  },
  {
   "cell_type": "code",
   "execution_count": 56,
   "metadata": {},
   "outputs": [],
   "source": [
    "def prod_per_county(tipo: str,pais: str,anio: int):\n",
    "    if not isinstance(tipo, str):\n",
    "        raise ValueError(\"El valor de 'tipo' debe ser de caracteres\")\n",
    "    if not isinstance(pais, str):\n",
    "        raise ValueError(\"El valor de 'platform' debe ser una cadena de caracteres\")\n",
    "    if not isinstance(anio, int):\n",
    "        raise ValueError(\"El valor de 'duration_type' debe ser un entero\")\n",
    "    df = pd.read_csv(\"plataformas.csv\")\n",
    "    tipo = tipo.lower()\n",
    "    pais = pais.lower()\n",
    "    if tipo == \"tv show\" or tipo == \"movie\":\n",
    "        if pais in df[\"country\"].unique():\n",
    "            respuesta = df[(df[\"type\"]== tipo) & (df[\"country\"]== pais) & (df[\"release_year\"]== anio)].shape[0]\n",
    "            return {'pais': pais,\n",
    "                    'anio': anio,\n",
    "                    'peliculas': respuesta}\n",
    "        else:\n",
    "            return {f\"Intenta poner un pais correcto\"}\n",
    "    else:\n",
    "        return {f\"Intenta poner tv show o movie en lugar de {tipo}\"}"
   ]
  },
  {
   "cell_type": "code",
   "execution_count": 68,
   "metadata": {},
   "outputs": [],
   "source": [
    "def get_contents(rating: str):\n",
    "    df = pd.read_csv(\"plataformas.csv\")\n",
    "    respuesta = df[df[\"rating_x\"]== rating]\n",
    "    return {respuesta.shape[0]}"
   ]
  }
 ],
 "metadata": {
  "kernelspec": {
   "display_name": "Python 3",
   "language": "python",
   "name": "python3"
  },
  "language_info": {
   "codemirror_mode": {
    "name": "ipython",
    "version": 3
   },
   "file_extension": ".py",
   "mimetype": "text/x-python",
   "name": "python",
   "nbconvert_exporter": "python",
   "pygments_lexer": "ipython3",
   "version": "3.11.0"
  },
  "orig_nbformat": 4
 },
 "nbformat": 4,
 "nbformat_minor": 2
}
